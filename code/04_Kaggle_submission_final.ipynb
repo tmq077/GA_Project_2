{
 "cells": [
  {
   "cell_type": "markdown",
   "id": "2e550e2a",
   "metadata": {},
   "source": [
    "### Cleaning Steps of test data for kaggle submission\n",
    "\n",
    "The following codes are for cleaning the test dataset for kaggle submission."
   ]
  },
  {
   "cell_type": "code",
   "execution_count": 11,
   "id": "c200cb53",
   "metadata": {},
   "outputs": [],
   "source": [
    "#Import the required packages for cleaning.\n",
    "import pandas as pd\n",
    "import numpy as np\n",
    "import math"
   ]
  },
  {
   "cell_type": "code",
   "execution_count": 12,
   "id": "f635b453",
   "metadata": {},
   "outputs": [],
   "source": [
    "#Set the display option to show all columns and rows.\n",
    "pd.set_option('display.max_columns', None)\n",
    "pd.set_option('display.max_rows', None)"
   ]
  },
  {
   "cell_type": "code",
   "execution_count": 13,
   "id": "40071cb3",
   "metadata": {},
   "outputs": [
    {
     "name": "stderr",
     "output_type": "stream",
     "text": [
      "/var/folders/ln/s46v4gtx1nx56rygx6_xcmkw0000gn/T/ipykernel_35244/65100304.py:1: DtypeWarning: Columns (41) have mixed types. Specify dtype option on import or set low_memory=False.\n",
      "  test_df = pd.read_csv(\"../datasets/test.csv\")\n"
     ]
    }
   ],
   "source": [
    "test_df = pd.read_csv(\"../datasets/test.csv\")\n",
    "\n",
    "# List of columns to replace\n",
    "columns_to_replace = [\"residential\", \"commercial\", \"market_hawker\", \"multistorey_carpark\", \"precinct_pavilion\"]\n",
    "\n",
    "# Replace 'N' with 0, and 'Y' with 1\n",
    "test_df[columns_to_replace] = test_df[columns_to_replace].replace([\"N\", \"Y\"], [0, 1])\n",
    "\n",
    "# Impute null values in specific columns with 0\n",
    "\n",
    "# List of columns to impute\n",
    "columns_to_impute = [\"Mall_Within_500m\", \"Mall_Within_1km\",\"Mall_Within_2km\", \"Hawker_Within_500m\", \"Hawker_Within_1km\", \"Hawker_Within_2km\"]\n",
    "\n",
    "# Impute null values with 0 in the specified columns\n",
    "test_df[columns_to_impute] = test_df[columns_to_impute].fillna(value = 0, axis = 1)\n",
    "\n",
    "# Convert all column names to be lowercase\n",
    "test_df.columns = test_df.columns.str.lower()\n",
    "\n",
    "# To impute the missing postal with the nearest neighbour imputation.\n",
    "test_df[\"postal\"] = test_df[\"postal\"].replace(\"NIL\",\"540538\")\n",
    "\n",
    "# To imput the mall_nearest_distance with the mean value.\n",
    "test_df[\"mall_nearest_distance\"] = test_df[\"mall_nearest_distance\"].fillna(np.mean(test_df[\"mall_nearest_distance\"]))\n",
    "\n",
    "#Feature engineer to create postal sector based on the first two digits of postal code.\n",
    "test_df[\"postal\"] = test_df[\"postal\"].astype(\"str\").str.zfill(6)\n",
    "test_df[\"postal_sector\"] = test_df[\"postal\"].astype(\"str\").str[:2]\n",
    "\n",
    "# Calculate the distance between each resale flat and CBD (Raffles Place mrt)\n",
    "def haversine(lat1, lon1, lat2, lon2):\n",
    "    R = 6371  # Radius of the earth in km\n",
    "    dLat = math.radians(lat2 - lat1)\n",
    "    dLon = math.radians(lon2 - lon1)\n",
    "    a = math.sin(dLat / 2) * math.sin(dLat / 2) + math.cos(math.radians(lat1)) \\\n",
    "        * math.cos(math.radians(lat2)) * math.sin(dLon / 2) * math.sin(dLon / 2)\n",
    "    c = 2 * math.atan2(math.sqrt(a), math.sqrt(1 - a))\n",
    "    d = R * c  # Distance in km\n",
    "    return d * 1000\n",
    "\n",
    "# Distance between each resale flat and Raffles Place mrt in km\n",
    "test_df['dist_CBD'] = test_df.apply(lambda row: haversine(row['latitude'], row['longitude'], 1.283931, 103.851461), axis=1)"
   ]
  },
  {
   "cell_type": "code",
   "execution_count": 14,
   "id": "9b42dc3a",
   "metadata": {},
   "outputs": [],
   "source": [
    "test_df.to_csv(\"../datasets/cleaned_test.csv\", index=False)"
   ]
  },
  {
   "cell_type": "code",
   "execution_count": 15,
   "id": "45c2d680",
   "metadata": {},
   "outputs": [
    {
     "name": "stdout",
     "output_type": "stream",
     "text": [
      "<class 'pandas.core.frame.DataFrame'>\n",
      "RangeIndex: 16737 entries, 0 to 16736\n",
      "Data columns (total 79 columns):\n",
      " #   Column                     Non-Null Count  Dtype  \n",
      "---  ------                     --------------  -----  \n",
      " 0   id                         16737 non-null  int64  \n",
      " 1   tranc_yearmonth            16737 non-null  object \n",
      " 2   town                       16737 non-null  object \n",
      " 3   flat_type                  16737 non-null  object \n",
      " 4   block                      16737 non-null  object \n",
      " 5   street_name                16737 non-null  object \n",
      " 6   storey_range               16737 non-null  object \n",
      " 7   floor_area_sqm             16737 non-null  float64\n",
      " 8   flat_model                 16737 non-null  object \n",
      " 9   lease_commence_date        16737 non-null  int64  \n",
      " 10  tranc_year                 16737 non-null  int64  \n",
      " 11  tranc_month                16737 non-null  int64  \n",
      " 12  mid_storey                 16737 non-null  int64  \n",
      " 13  lower                      16737 non-null  int64  \n",
      " 14  upper                      16737 non-null  int64  \n",
      " 15  mid                        16737 non-null  int64  \n",
      " 16  full_flat_type             16737 non-null  object \n",
      " 17  address                    16737 non-null  object \n",
      " 18  floor_area_sqft            16737 non-null  float64\n",
      " 19  price_per_sqft             16737 non-null  float64\n",
      " 20  hdb_age                    16737 non-null  int64  \n",
      " 21  max_floor_lvl              16737 non-null  int64  \n",
      " 22  year_completed             16737 non-null  int64  \n",
      " 23  residential                16737 non-null  int64  \n",
      " 24  commercial                 16737 non-null  int64  \n",
      " 25  market_hawker              16737 non-null  int64  \n",
      " 26  multistorey_carpark        16737 non-null  int64  \n",
      " 27  precinct_pavilion          16737 non-null  int64  \n",
      " 28  total_dwelling_units       16737 non-null  int64  \n",
      " 29  1room_sold                 16737 non-null  int64  \n",
      " 30  2room_sold                 16737 non-null  int64  \n",
      " 31  3room_sold                 16737 non-null  int64  \n",
      " 32  4room_sold                 16737 non-null  int64  \n",
      " 33  5room_sold                 16737 non-null  int64  \n",
      " 34  exec_sold                  16737 non-null  int64  \n",
      " 35  multigen_sold              16737 non-null  int64  \n",
      " 36  studio_apartment_sold      16737 non-null  int64  \n",
      " 37  1room_rental               16737 non-null  int64  \n",
      " 38  2room_rental               16737 non-null  int64  \n",
      " 39  3room_rental               16737 non-null  int64  \n",
      " 40  other_room_rental          16737 non-null  int64  \n",
      " 41  postal                     16737 non-null  object \n",
      " 42  latitude                   16737 non-null  float64\n",
      " 43  longitude                  16737 non-null  float64\n",
      " 44  planning_area              16737 non-null  object \n",
      " 45  mall_nearest_distance      16737 non-null  float64\n",
      " 46  mall_within_500m           16737 non-null  float64\n",
      " 47  mall_within_1km            16737 non-null  float64\n",
      " 48  mall_within_2km            16737 non-null  float64\n",
      " 49  hawker_nearest_distance    16737 non-null  float64\n",
      " 50  hawker_within_500m         16737 non-null  float64\n",
      " 51  hawker_within_1km          16737 non-null  float64\n",
      " 52  hawker_within_2km          16737 non-null  float64\n",
      " 53  hawker_food_stalls         16737 non-null  int64  \n",
      " 54  hawker_market_stalls       16737 non-null  int64  \n",
      " 55  mrt_nearest_distance       16737 non-null  float64\n",
      " 56  mrt_name                   16737 non-null  object \n",
      " 57  bus_interchange            16737 non-null  int64  \n",
      " 58  mrt_interchange            16737 non-null  int64  \n",
      " 59  mrt_latitude               16737 non-null  float64\n",
      " 60  mrt_longitude              16737 non-null  float64\n",
      " 61  bus_stop_nearest_distance  16737 non-null  float64\n",
      " 62  bus_stop_name              16737 non-null  object \n",
      " 63  bus_stop_latitude          16737 non-null  float64\n",
      " 64  bus_stop_longitude         16737 non-null  float64\n",
      " 65  pri_sch_nearest_distance   16737 non-null  float64\n",
      " 66  pri_sch_name               16737 non-null  object \n",
      " 67  vacancy                    16737 non-null  int64  \n",
      " 68  pri_sch_affiliation        16737 non-null  int64  \n",
      " 69  pri_sch_latitude           16737 non-null  float64\n",
      " 70  pri_sch_longitude          16737 non-null  float64\n",
      " 71  sec_sch_nearest_dist       16737 non-null  float64\n",
      " 72  sec_sch_name               16737 non-null  object \n",
      " 73  cutoff_point               16737 non-null  int64  \n",
      " 74  affiliation                16737 non-null  int64  \n",
      " 75  sec_sch_latitude           16737 non-null  float64\n",
      " 76  sec_sch_longitude          16737 non-null  float64\n",
      " 77  postal_sector              16737 non-null  object \n",
      " 78  dist_CBD                   16737 non-null  float64\n",
      "dtypes: float64(26), int64(37), object(16)\n",
      "memory usage: 10.1+ MB\n"
     ]
    }
   ],
   "source": [
    "test_df.info()"
   ]
  },
  {
   "cell_type": "markdown",
   "id": "d7126140",
   "metadata": {},
   "source": [
    "### Kaggle prediction"
   ]
  },
  {
   "cell_type": "code",
   "execution_count": 16,
   "id": "77b0d886",
   "metadata": {},
   "outputs": [],
   "source": [
    "from sklearn import datasets\n",
    "from sklearn.model_selection import train_test_split\n",
    "from sklearn.linear_model import LinearRegression\n",
    "from sklearn.model_selection import train_test_split, cross_val_score\n",
    "from sklearn.preprocessing import StandardScaler, PolynomialFeatures, MinMaxScaler\n",
    "\n",
    "from sklearn.linear_model import LinearRegression\n",
    "from sklearn import metrics"
   ]
  },
  {
   "cell_type": "code",
   "execution_count": 17,
   "id": "5be63837",
   "metadata": {},
   "outputs": [
    {
     "data": {
      "text/html": [
       "<style>#sk-container-id-1 {color: black;}#sk-container-id-1 pre{padding: 0;}#sk-container-id-1 div.sk-toggleable {background-color: white;}#sk-container-id-1 label.sk-toggleable__label {cursor: pointer;display: block;width: 100%;margin-bottom: 0;padding: 0.3em;box-sizing: border-box;text-align: center;}#sk-container-id-1 label.sk-toggleable__label-arrow:before {content: \"▸\";float: left;margin-right: 0.25em;color: #696969;}#sk-container-id-1 label.sk-toggleable__label-arrow:hover:before {color: black;}#sk-container-id-1 div.sk-estimator:hover label.sk-toggleable__label-arrow:before {color: black;}#sk-container-id-1 div.sk-toggleable__content {max-height: 0;max-width: 0;overflow: hidden;text-align: left;background-color: #f0f8ff;}#sk-container-id-1 div.sk-toggleable__content pre {margin: 0.2em;color: black;border-radius: 0.25em;background-color: #f0f8ff;}#sk-container-id-1 input.sk-toggleable__control:checked~div.sk-toggleable__content {max-height: 200px;max-width: 100%;overflow: auto;}#sk-container-id-1 input.sk-toggleable__control:checked~label.sk-toggleable__label-arrow:before {content: \"▾\";}#sk-container-id-1 div.sk-estimator input.sk-toggleable__control:checked~label.sk-toggleable__label {background-color: #d4ebff;}#sk-container-id-1 div.sk-label input.sk-toggleable__control:checked~label.sk-toggleable__label {background-color: #d4ebff;}#sk-container-id-1 input.sk-hidden--visually {border: 0;clip: rect(1px 1px 1px 1px);clip: rect(1px, 1px, 1px, 1px);height: 1px;margin: -1px;overflow: hidden;padding: 0;position: absolute;width: 1px;}#sk-container-id-1 div.sk-estimator {font-family: monospace;background-color: #f0f8ff;border: 1px dotted black;border-radius: 0.25em;box-sizing: border-box;margin-bottom: 0.5em;}#sk-container-id-1 div.sk-estimator:hover {background-color: #d4ebff;}#sk-container-id-1 div.sk-parallel-item::after {content: \"\";width: 100%;border-bottom: 1px solid gray;flex-grow: 1;}#sk-container-id-1 div.sk-label:hover label.sk-toggleable__label {background-color: #d4ebff;}#sk-container-id-1 div.sk-serial::before {content: \"\";position: absolute;border-left: 1px solid gray;box-sizing: border-box;top: 0;bottom: 0;left: 50%;z-index: 0;}#sk-container-id-1 div.sk-serial {display: flex;flex-direction: column;align-items: center;background-color: white;padding-right: 0.2em;padding-left: 0.2em;position: relative;}#sk-container-id-1 div.sk-item {position: relative;z-index: 1;}#sk-container-id-1 div.sk-parallel {display: flex;align-items: stretch;justify-content: center;background-color: white;position: relative;}#sk-container-id-1 div.sk-item::before, #sk-container-id-1 div.sk-parallel-item::before {content: \"\";position: absolute;border-left: 1px solid gray;box-sizing: border-box;top: 0;bottom: 0;left: 50%;z-index: -1;}#sk-container-id-1 div.sk-parallel-item {display: flex;flex-direction: column;z-index: 1;position: relative;background-color: white;}#sk-container-id-1 div.sk-parallel-item:first-child::after {align-self: flex-end;width: 50%;}#sk-container-id-1 div.sk-parallel-item:last-child::after {align-self: flex-start;width: 50%;}#sk-container-id-1 div.sk-parallel-item:only-child::after {width: 0;}#sk-container-id-1 div.sk-dashed-wrapped {border: 1px dashed gray;margin: 0 0.4em 0.5em 0.4em;box-sizing: border-box;padding-bottom: 0.4em;background-color: white;}#sk-container-id-1 div.sk-label label {font-family: monospace;font-weight: bold;display: inline-block;line-height: 1.2em;}#sk-container-id-1 div.sk-label-container {text-align: center;}#sk-container-id-1 div.sk-container {/* jupyter's `normalize.less` sets `[hidden] { display: none; }` but bootstrap.min.css set `[hidden] { display: none !important; }` so we also need the `!important` here to be able to override the default hidden behavior on the sphinx rendered scikit-learn.org. See: https://github.com/scikit-learn/scikit-learn/issues/21755 */display: inline-block !important;position: relative;}#sk-container-id-1 div.sk-text-repr-fallback {display: none;}</style><div id=\"sk-container-id-1\" class=\"sk-top-container\"><div class=\"sk-text-repr-fallback\"><pre>LinearRegression()</pre><b>In a Jupyter environment, please rerun this cell to show the HTML representation or trust the notebook. <br />On GitHub, the HTML representation is unable to render, please try loading this page with nbviewer.org.</b></div><div class=\"sk-container\" hidden><div class=\"sk-item\"><div class=\"sk-estimator sk-toggleable\"><input class=\"sk-toggleable__control sk-hidden--visually\" id=\"sk-estimator-id-1\" type=\"checkbox\" checked><label for=\"sk-estimator-id-1\" class=\"sk-toggleable__label sk-toggleable__label-arrow\">LinearRegression</label><div class=\"sk-toggleable__content\"><pre>LinearRegression()</pre></div></div></div></div></div>"
      ],
      "text/plain": [
       "LinearRegression()"
      ]
     },
     "execution_count": 17,
     "metadata": {},
     "output_type": "execute_result"
    }
   ],
   "source": [
    "# The following codes will read in the train data to create the prediction model to be used for the prediction.\n",
    "# Read in the cleaned dataset\n",
    "df = pd.read_csv(\"../datasets/cleaned_train.csv\")\n",
    "# Convert data type of postal_sector to string\n",
    "df[\"postal_sector\"] = df[\"postal_sector\"].astype(\"str\")\n",
    "# Drop rows with flat_model = 2-room for the prediction model. \n",
    "df = df[df[\"flat_model\"]!=\"2-room\"]\n",
    "\n",
    "# Assemble X and y variables\n",
    "# Dummify the postal_sector and full_flat_type column to convert from categorical to numerical values\n",
    "X = df[[\"tranc_year\",\"floor_area_sqm\",\"hdb_age\",\"full_flat_type\",\"mrt_nearest_distance\",\"mall_nearest_distance\",\"postal_sector\",\"dist_CBD\", \"mid\"]]\n",
    "X = pd.get_dummies(data = X, columns =[\"postal_sector\",\"full_flat_type\"])\n",
    "\n",
    "y = df['resale_price']\n",
    "\n",
    "# Train/Test Split\n",
    "X_train, X_test, y_train, y_test = train_test_split(X, y, random_state=42)\n",
    "\n",
    "# Instantiate and Fit Model\n",
    "LR = LinearRegression()\n",
    "LR.fit(X_train,y_train)\n",
    "\n",
    "# We will use the LR linear regression model for the prediction of the test dataset. "
   ]
  },
  {
   "cell_type": "code",
   "execution_count": 19,
   "id": "9b9f81f2",
   "metadata": {},
   "outputs": [],
   "source": [
    "#The following codes will create the same set of features from the test dataset to be used in our LR linear regression model.\n",
    "\n",
    "X_test_df = test_df[[\"tranc_year\",\"floor_area_sqm\",\"hdb_age\",\"full_flat_type\",\"mrt_nearest_distance\",\"mall_nearest_distance\",\"postal_sector\",\"dist_CBD\", \"mid\"]]\n",
    "X_test_df = pd.get_dummies(data = X_test_df, columns =[\"postal_sector\",\"full_flat_type\"])\n",
    "\n",
    "# Feature columns that do not exist in test csv to be created and filled with zeros.\n",
    "X_test_df[\"full_flat_type_2 ROOM DBSS\"] = 0\n",
    "X_test_df[\"full_flat_type_4 ROOM Terrace\"] = 0\n",
    "X_test_df['postal_sector_5'] = 0\n",
    "X_test_df['postal_sector_8'] = 0\n",
    "X_test_df['postal_sector_9'] = 0\n",
    "\n",
    "# Ordering the features in X_test_df to be the same as our LR prediction model.\n",
    "X_test_df = X_test_df[X.columns]"
   ]
  },
  {
   "cell_type": "code",
   "execution_count": 20,
   "id": "8e1f84f7",
   "metadata": {},
   "outputs": [],
   "source": [
    "# The following codes will predict the data using the LR prediction model.\n",
    "LR_pred_df = LR.predict(X_test_df)\n",
    "predictions = pd.DataFrame(LR_pred_df, columns = [\"Predicted\"])\n",
    "output = pd.merge(test_df, predictions,left_index = True, right_index = True)\n",
    "final_output = output[['id',\"Predicted\"]]\n",
    "final = final_output.rename(columns={\"id\":\"Id\",\"Predicted\":\"Predicted\"})\n",
    "# We save the output to a csv file to upload on kaggle.\n",
    "final.to_csv(\"../datasets/predicted_resale_price_final.csv\", index = False)"
   ]
  },
  {
   "cell_type": "markdown",
   "id": "5d971edd",
   "metadata": {},
   "source": [
    "### Kaggle submission result\n",
    "\n"
   ]
  },
  {
   "cell_type": "markdown",
   "id": "9b1c15b4",
   "metadata": {},
   "source": [
    "![](../imgs/kaggle_final.png)"
   ]
  }
 ],
 "metadata": {
  "kernelspec": {
   "display_name": "Python 3 (ipykernel)",
   "language": "python",
   "name": "python3"
  },
  "language_info": {
   "codemirror_mode": {
    "name": "ipython",
    "version": 3
   },
   "file_extension": ".py",
   "mimetype": "text/x-python",
   "name": "python",
   "nbconvert_exporter": "python",
   "pygments_lexer": "ipython3",
   "version": "3.10.9"
  }
 },
 "nbformat": 4,
 "nbformat_minor": 5
}
